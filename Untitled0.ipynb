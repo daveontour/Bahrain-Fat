{
  "nbformat": 4,
  "nbformat_minor": 0,
  "metadata": {
    "colab": {
      "name": "Untitled0.ipynb",
      "version": "0.3.2",
      "provenance": [],
      "include_colab_link": true
    },
    "kernelspec": {
      "name": "python3",
      "display_name": "Python 3"
    }
  },
  "cells": [
    {
      "cell_type": "markdown",
      "metadata": {
        "id": "view-in-github",
        "colab_type": "text"
      },
      "source": [
        "<a href=\"https://colab.research.google.com/github/daveontour/Bahrain-Fat/blob/master/Untitled0.ipynb\" target=\"_parent\"><img src=\"https://colab.research.google.com/assets/colab-badge.svg\" alt=\"Open In Colab\"/></a>"
      ]
    },
    {
      "metadata": {
        "id": "0ktyfiGGhNum",
        "colab_type": "code",
        "colab": {}
      },
      "cell_type": "code",
      "source": [
        ""
      ],
      "execution_count": 0,
      "outputs": []
    },
    {
      "metadata": {
        "id": "9G2mGdmYhdqZ",
        "colab_type": "code",
        "colab": {
          "base_uri": "https://localhost:8080/",
          "height": 68
        },
        "outputId": "48af58b6-5ce0-4595-b0c8-f36c5bda9334"
      },
      "cell_type": "code",
      "source": [
        "# Install the PyDrive wrapper & import libraries.\n",
        "# This only needs to be done once per notebook.\n",
        "!pip install -U -q PyDrive\n",
        "from pydrive.auth import GoogleAuth\n",
        "from pydrive.drive import GoogleDrive\n",
        "from google.colab import auth\n",
        "from oauth2client.client import GoogleCredentials\n",
        "\n",
        "# Authenticate and create the PyDrive client.\n",
        "# This only needs to be done once per notebook.\n",
        "auth.authenticate_user()\n",
        "gauth = GoogleAuth()\n",
        "gauth.credentials = GoogleCredentials.get_application_default()\n",
        "drive = GoogleDrive(gauth)\n",
        "\n",
        "# List .txt files in the root.\n",
        "#\n",
        "# Search query reference:\n",
        "# https://developers.google.com/drive/v2/web/search-parameters\n",
        "listed = drive.ListFile({'q': \"title contains '.txt' and 'root' in parents\"}).GetList()\n",
        "for file in listed:\n",
        "  print('title {}, id {}'.format(file['title'], file['id']))"
      ],
      "execution_count": 1,
      "outputs": [
        {
          "output_type": "stream",
          "text": [
            "\u001b[?25l\r\u001b[K    1% |▎                               | 10kB 21.0MB/s eta 0:00:01\r\u001b[K    2% |▋                               | 20kB 3.3MB/s eta 0:00:01\r\u001b[K    3% |█                               | 30kB 4.8MB/s eta 0:00:01\r\u001b[K    4% |█▎                              | 40kB 3.0MB/s eta 0:00:01\r\u001b[K    5% |█▋                              | 51kB 3.7MB/s eta 0:00:01\r\u001b[K    6% |██                              | 61kB 4.5MB/s eta 0:00:01\r\u001b[K    7% |██▎                             | 71kB 5.1MB/s eta 0:00:01\r\u001b[K    8% |██▋                             | 81kB 5.7MB/s eta 0:00:01\r\u001b[K    9% |███                             | 92kB 6.4MB/s eta 0:00:01\r\u001b[K    10% |███▎                            | 102kB 5.0MB/s eta 0:00:01\r\u001b[K    11% |███▋                            | 112kB 5.0MB/s eta 0:00:01\r\u001b[K    12% |████                            | 122kB 6.9MB/s eta 0:00:01\r\u001b[K    13% |████▎                           | 133kB 6.9MB/s eta 0:00:01\r\u001b[K    14% |████▋                           | 143kB 12.6MB/s eta 0:00:01\r\u001b[K    15% |█████                           | 153kB 12.7MB/s eta 0:00:01\r\u001b[K    16% |█████▎                          | 163kB 12.7MB/s eta 0:00:01\r\u001b[K    17% |█████▋                          | 174kB 12.7MB/s eta 0:00:01\r\u001b[K    18% |██████                          | 184kB 12.9MB/s eta 0:00:01\r\u001b[K    19% |██████▎                         | 194kB 12.9MB/s eta 0:00:01\r\u001b[K    20% |██████▋                         | 204kB 45.8MB/s eta 0:00:01\r\u001b[K    21% |███████                         | 215kB 14.7MB/s eta 0:00:01\r\u001b[K    22% |███████▎                        | 225kB 14.8MB/s eta 0:00:01\r\u001b[K    23% |███████▋                        | 235kB 14.9MB/s eta 0:00:01\r\u001b[K    24% |████████                        | 245kB 15.0MB/s eta 0:00:01\r\u001b[K    25% |████████▎                       | 256kB 14.9MB/s eta 0:00:01\r\u001b[K    26% |████████▋                       | 266kB 14.4MB/s eta 0:00:01\r\u001b[K    27% |█████████                       | 276kB 14.6MB/s eta 0:00:01\r\u001b[K    29% |█████████▎                      | 286kB 14.6MB/s eta 0:00:01\r\u001b[K    30% |█████████▋                      | 296kB 14.5MB/s eta 0:00:01\r\u001b[K    31% |██████████                      | 307kB 15.1MB/s eta 0:00:01\r\u001b[K    32% |██████████▎                     | 317kB 52.1MB/s eta 0:00:01\r\u001b[K    33% |██████████▋                     | 327kB 51.6MB/s eta 0:00:01\r\u001b[K    34% |███████████                     | 337kB 52.7MB/s eta 0:00:01\r\u001b[K    35% |███████████▎                    | 348kB 47.3MB/s eta 0:00:01\r\u001b[K    36% |███████████▋                    | 358kB 47.9MB/s eta 0:00:01\r\u001b[K    37% |████████████                    | 368kB 55.0MB/s eta 0:00:01\r\u001b[K    38% |████████████▎                   | 378kB 55.2MB/s eta 0:00:01\r\u001b[K    39% |████████████▋                   | 389kB 55.9MB/s eta 0:00:01\r\u001b[K    40% |█████████████                   | 399kB 18.5MB/s eta 0:00:01\r\u001b[K    41% |█████████████▎                  | 409kB 17.6MB/s eta 0:00:01\r\u001b[K    42% |█████████████▋                  | 419kB 17.5MB/s eta 0:00:01\r\u001b[K    43% |██████████████                  | 430kB 17.6MB/s eta 0:00:01\r\u001b[K    44% |██████████████▎                 | 440kB 17.6MB/s eta 0:00:01\r\u001b[K    45% |██████████████▋                 | 450kB 18.1MB/s eta 0:00:01\r\u001b[K    46% |███████████████                 | 460kB 17.9MB/s eta 0:00:01\r\u001b[K    47% |███████████████▎                | 471kB 17.9MB/s eta 0:00:01\r\u001b[K    48% |███████████████▋                | 481kB 17.9MB/s eta 0:00:01\r\u001b[K    49% |████████████████                | 491kB 17.8MB/s eta 0:00:01\r\u001b[K    50% |████████████████▎               | 501kB 51.6MB/s eta 0:00:01\r\u001b[K    51% |████████████████▋               | 512kB 55.8MB/s eta 0:00:01\r\u001b[K    52% |█████████████████               | 522kB 55.7MB/s eta 0:00:01\r\u001b[K    53% |█████████████████▎              | 532kB 56.6MB/s eta 0:00:01\r\u001b[K    54% |█████████████████▋              | 542kB 56.8MB/s eta 0:00:01\r\u001b[K    55% |██████████████████              | 552kB 62.3MB/s eta 0:00:01\r\u001b[K    57% |██████████████████▎             | 563kB 64.6MB/s eta 0:00:01\r\u001b[K    58% |██████████████████▋             | 573kB 63.2MB/s eta 0:00:01\r\u001b[K    59% |███████████████████             | 583kB 61.8MB/s eta 0:00:01\r\u001b[K    60% |███████████████████▎            | 593kB 60.7MB/s eta 0:00:01\r\u001b[K    61% |███████████████████▋            | 604kB 60.5MB/s eta 0:00:01\r\u001b[K    62% |████████████████████            | 614kB 66.3MB/s eta 0:00:01\r\u001b[K    63% |████████████████████▎           | 624kB 65.8MB/s eta 0:00:01\r\u001b[K    64% |████████████████████▋           | 634kB 64.9MB/s eta 0:00:01\r\u001b[K    65% |█████████████████████           | 645kB 62.5MB/s eta 0:00:01\r\u001b[K    66% |█████████████████████▎          | 655kB 60.5MB/s eta 0:00:01\r\u001b[K    67% |█████████████████████▋          | 665kB 47.0MB/s eta 0:00:01\r\u001b[K    68% |██████████████████████          | 675kB 46.3MB/s eta 0:00:01\r\u001b[K    69% |██████████████████████▎         | 686kB 46.7MB/s eta 0:00:01\r\u001b[K    70% |██████████████████████▋         | 696kB 48.0MB/s eta 0:00:01\r\u001b[K    71% |███████████████████████         | 706kB 47.8MB/s eta 0:00:01\r\u001b[K    72% |███████████████████████▎        | 716kB 48.2MB/s eta 0:00:01\r\u001b[K    73% |███████████████████████▋        | 727kB 48.5MB/s eta 0:00:01\r\u001b[K    74% |████████████████████████        | 737kB 35.7MB/s eta 0:00:01\r\u001b[K    75% |████████████████████████▎       | 747kB 35.4MB/s eta 0:00:01\r\u001b[K    76% |████████████████████████▋       | 757kB 34.5MB/s eta 0:00:01\r\u001b[K    77% |████████████████████████▉       | 768kB 40.4MB/s eta 0:00:01\r\u001b[K    78% |█████████████████████████▏      | 778kB 41.2MB/s eta 0:00:01\r\u001b[K    79% |█████████████████████████▌      | 788kB 41.2MB/s eta 0:00:01\r\u001b[K    80% |█████████████████████████▉      | 798kB 40.8MB/s eta 0:00:01\r\u001b[K    81% |██████████████████████████▏     | 808kB 40.3MB/s eta 0:00:01\r\u001b[K    82% |██████████████████████████▌     | 819kB 39.6MB/s eta 0:00:01\r\u001b[K    83% |██████████████████████████▉     | 829kB 39.5MB/s eta 0:00:01\r\u001b[K    85% |███████████████████████████▏    | 839kB 55.6MB/s eta 0:00:01\r\u001b[K    86% |███████████████████████████▌    | 849kB 57.4MB/s eta 0:00:01\r\u001b[K    87% |███████████████████████████▉    | 860kB 53.4MB/s eta 0:00:01\r\u001b[K    88% |████████████████████████████▏   | 870kB 54.5MB/s eta 0:00:01\r\u001b[K    89% |████████████████████████████▌   | 880kB 55.0MB/s eta 0:00:01\r\u001b[K    90% |████████████████████████████▉   | 890kB 55.6MB/s eta 0:00:01\r\u001b[K    91% |█████████████████████████████▏  | 901kB 55.7MB/s eta 0:00:01\r\u001b[K    92% |█████████████████████████████▌  | 911kB 57.0MB/s eta 0:00:01\r\u001b[K    93% |█████████████████████████████▉  | 921kB 57.5MB/s eta 0:00:01\r\u001b[K    94% |██████████████████████████████▏ | 931kB 56.5MB/s eta 0:00:01\r\u001b[K    95% |██████████████████████████████▌ | 942kB 57.1MB/s eta 0:00:01\r\u001b[K    96% |██████████████████████████████▉ | 952kB 57.5MB/s eta 0:00:01\r\u001b[K    97% |███████████████████████████████▏| 962kB 66.4MB/s eta 0:00:01\r\u001b[K    98% |███████████████████████████████▌| 972kB 66.8MB/s eta 0:00:01\r\u001b[K    99% |███████████████████████████████▉| 983kB 64.7MB/s eta 0:00:01\r\u001b[K    100% |████████████████████████████████| 993kB 21.4MB/s \n",
            "\u001b[?25h  Building wheel for PyDrive (setup.py) ... \u001b[?25ldone\n",
            "\u001b[?25htitle New Text Document.txt, id 0B0ezcCAjPWfOdHpmSHdSYzAxdG8\n"
          ],
          "name": "stdout"
        }
      ]
    },
    {
      "metadata": {
        "id": "iJ_pgfG9heww",
        "colab_type": "code",
        "colab": {}
      },
      "cell_type": "code",
      "source": [
        ""
      ],
      "execution_count": 0,
      "outputs": []
    }
  ]
}